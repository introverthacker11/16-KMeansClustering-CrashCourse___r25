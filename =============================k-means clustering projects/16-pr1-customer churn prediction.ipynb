{
 "cells": [
  {
   "cell_type": "markdown",
   "id": "08351663-9788-41af-ba8e-c087932fd6be",
   "metadata": {},
   "source": [
    "# Project 1:\n",
    "\n",
    "# Predicting price of houses on basis of different house features using Linear Regression:\n",
    "######\n",
    "| **Prepared by:** | Rayyan Ahmed.\n",
    "|----------|----------------------------------------------------|\n",
    "| **Date:** | 7th Jan, 2025"
   ]
  }
 ],
 "metadata": {
  "kernelspec": {
   "display_name": "Python (tf_env)",
   "language": "python",
   "name": "tf_env"
  },
  "language_info": {
   "codemirror_mode": {
    "name": "ipython",
    "version": 3
   },
   "file_extension": ".py",
   "mimetype": "text/x-python",
   "name": "python",
   "nbconvert_exporter": "python",
   "pygments_lexer": "ipython3",
   "version": "3.8.20"
  }
 },
 "nbformat": 4,
 "nbformat_minor": 5
}
